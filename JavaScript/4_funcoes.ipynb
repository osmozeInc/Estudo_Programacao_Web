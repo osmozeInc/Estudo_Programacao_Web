{
 "cells": [
  {
   "cell_type": "markdown",
   "metadata": {},
   "source": [
    "#  FUNÇÕES"
   ]
  },
  {
   "cell_type": "markdown",
   "metadata": {},
   "source": [
    "### DECLARÇÃO DE FUNÇÕES\n"
   ]
  },
  {
   "cell_type": "markdown",
   "metadata": {},
   "source": [
    "\n",
    "para declarar uma função em javascript, utilizamos a palavra reservada function.\n",
    "\n",
    "```javascript\n",
    "function square(numero) \n",
    "{\n",
    "  return numero * numero;\n",
    "}\n",
    "```\n",
    "\n",
    "#### EXPRESSÕES DE FUNÇÕES\n",
    "\n",
    "uma função também pode ser declarada como uma expressão.\n",
    "\n",
    "```javascript\t\n",
    "const square = function (numero) {\n",
    "  return numero * numero;\n",
    "}\n",
    "```\n",
    "\n",
    "é possível também declarar uma função sobre condições.\n",
    "\n",
    "```javascript\n",
    "var minhaFuncao;\n",
    "if (num == 0) {\n",
    "  minhaFuncao = function (objeto) {\n",
    "    objeto.make = \"Toyota\";\n",
    "  };\n",
    "}\n",
    "```\n",
    "\n",
    "#### FUNÇÕES RECURSIVAS\n",
    "\n",
    "uma função recursiva é uma função que chama a si mesma.\n",
    "\n",
    "```javascript\n",
    "function factorial(n) {\n",
    "  if ((n === 0) || (n === 1))\n",
    "  return 1;\n",
    "\n",
    "  else\n",
    "  return (n * factorial(n - 1));\n",
    "}\n",
    "```\n",
    "\n",
    "recursão e pilha: o comportamento de pilha pode ser visto abaixo.\n",
    "\n",
    "```javascript\n",
    "function foo(i) {\n",
    "  if (i < 0) return;\n",
    "  document.writeln(\"begin:\" + i);\n",
    "  foo(i - 1);\n",
    "  document.writeln(\"end:\" + i);\n",
    "}\n",
    "foo(3);\n",
    "```\n",
    "\n",
    "> Saída: begin:3,\n",
    "begin:2, begin:1, begin:0, end:0, end:1, end:2, end:3"
   ]
  },
  {
   "cell_type": "markdown",
   "metadata": {},
   "source": [
    "### FUNÇÕES ANINHADAS E CLOSURES"
   ]
  },
  {
   "cell_type": "markdown",
   "metadata": {},
   "source": [
    "#### FUNÇÕES ANINHADAS\n",
    "Funções aninhadas são funções definidas dentro de outras funções.  \n",
    "Uma função pode ser criada dentro de outra e acessar variáveis do escopo da função que a contém.\n",
    "\n",
    "```javascript\n",
    "function externa() {\n",
    "    const mensagem = \"Olá do escopo externo!\";\n",
    "\n",
    "    function interna() {\n",
    "        console.log(mensagem); // Acessa a variável da função externa\n",
    "    }\n",
    "\n",
    "    interna(); // Chama a função interna\n",
    "}\n",
    "\n",
    "externa();\n",
    "```\n",
    "\n",
    "#### CLOSURES\n",
    "\n",
    "Um closure ocorre quando uma função \"lembra\" do escopo onde foi criada, mesmo sendo executada fora desse escopo.\n",
    "\n",
    "\n",
    "```javascript\n",
    "function criarContador() {\n",
    "    let contador = 0;\n",
    "\n",
    "    return function incrementar() {\n",
    "        contador++;\n",
    "        return contador;\n",
    "    };\n",
    "}\n",
    "\n",
    "const contador1 = criarContador(); // Cria um closure\n",
    "console.log(contador1()); // Saída: 1\n",
    "console.log(contador1()); // Saída: 2\n",
    "\n",
    "const contador2 = criarContador(); // Cria outro closure independente\n",
    "console.log(contador2()); // Saída: 1\n",
    "```\n"
   ]
  },
  {
   "cell_type": "markdown",
   "metadata": {},
   "source": [
    "### PARÂMETROS DE FUNÇÃO"
   ]
  },
  {
   "cell_type": "markdown",
   "metadata": {},
   "source": [
    "#### PARÂMETROS PADRÃO\n",
    "No passado, a estratégia geral para definir padrões era testar os valores de parâmetro no corpo da função e atribuir um valor se eles fossem undefined.\n",
    "\n",
    "```JAVASCRIPT\n",
    "function multiplicar(a, b) {\n",
    "  b = typeof b !== \"undefined\" ? b : 1;  // b recebe: (se o valord de 'b' for diferente de \"undefined\" => true: mantém b. false: b recebe 1)\n",
    "\n",
    "  return a * b;\n",
    "}\n",
    "\n",
    "multiplicar(5); // 5\n",
    "```  \n",
    "  \n",
    "Agora você pode simplesmente colocar 1 como valor padrão para b \n",
    "\n",
    "```JAVASCRIPT\n",
    "function multiplicar(a, b = 1) {\n",
    "  return a * b;\n",
    "}\n",
    "\n",
    "multiplicar(5); // 5\n",
    "```\n",
    "\n",
    "#### PARÂMETROS REST\n",
    "\n",
    "permite representar um número indefinido de argumentos como um array.\n",
    "\n",
    "```javascript\n",
    "function multiplicar(multiplicador, ...args) {\n",
    "  return args.map((x) => multiplicador * x);\n",
    "}\n",
    "\n",
    "var arr = multiplicar(2, 1, 2, 3); // [2, 4, 6]\n",
    "\n",
    "```\n"
   ]
  },
  {
   "cell_type": "markdown",
   "metadata": {},
   "source": [
    "### FUNÇÕES DE SETA"
   ]
  },
  {
   "cell_type": "markdown",
   "metadata": {},
   "source": [
    "tem uma sintaxe pequena em comparação com a expressão de função e lexicalmente vincula o valor this.  \n",
    "Funções de seta são sempre anônimas.  \n",
    "\n",
    "#### FUNÇÕES CURTAS\n",
    "\n",
    "```JAVASCRIPT\n",
    "var a = [\"Hydrogen\", \"Helium\", \"Lithium\", \"Beryllium\"];\n",
    "\n",
    "var a2 = a.map(function (s) {\n",
    "  return s.length;\n",
    "});\n",
    "\n",
    "var a3 = a.map((s) => s.length);\n",
    "```\n",
    "\n",
    "\n",
    "#### LÉXICO THIS\n",
    "\n",
    "```JAVASCRIPT\n",
    "function Pessoa() {\n",
    "  var self = this; // Alguns preferem 'that' em vez de 'self'.\n",
    "  // Escolha um e seja consistente.\n",
    "  self.idade = 0;\n",
    "\n",
    "  setInterval(function crescer() {\n",
    "    // A chamada de retorno refere-se à variável 'self' na qual\n",
    "    // o valor é o objeto esperado.\n",
    "    self.idade++;\n",
    "  }, 1000);\n",
    "}\n",
    "```"
   ]
  }
 ],
 "metadata": {
  "kernelspec": {
   "display_name": "Python 3 (ipykernel)",
   "language": "python",
   "name": "python3"
  },
  "language_info": {
   "codemirror_mode": {
    "name": "ipython",
    "version": 3
   },
   "file_extension": ".py",
   "mimetype": "text/x-python",
   "name": "python",
   "nbconvert_exporter": "python",
   "pygments_lexer": "ipython3",
   "version": "3.12.1"
  }
 },
 "nbformat": 4,
 "nbformat_minor": 2
}
